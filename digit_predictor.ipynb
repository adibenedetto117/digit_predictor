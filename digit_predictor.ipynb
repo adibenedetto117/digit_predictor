{
 "cells": [
  {
   "attachments": {},
   "cell_type": "markdown",
   "metadata": {},
   "source": [
    "### This project trains on data images from the MNIST dataset which are handwritten digits. The images include numbers from 0 to 9. I train theses images on a LeNet model. Once the training is done, I created a GUI using tkinter to allow the user to draw there own number and test the accuracy of the model.\n",
    "\n",
    "- I create a LeNet model using PyTorch's nn module.\n",
    "- I defines a training function that trains the LeNet model on the MNIST training set using the Adam optimizer and Cross Entropy Loss.\n",
    "- I define a GUI that allows users to draw a digit on a canvas, clears the canvas, and predicts the drawn digit using the inference function.\n",
    "\n",
    "-- Anthony DiBenedetto"
   ]
  },
  {
   "attachments": {},
   "cell_type": "markdown",
   "metadata": {},
   "source": [
    "## Import Libraries --------------------------------"
   ]
  },
  {
   "cell_type": "code",
   "execution_count": 1,
   "metadata": {},
   "outputs": [],
   "source": [
    "import torch, torchvision\n",
    "from torch import nn\n",
    "from torch import optim\n",
    "from torchvision.transforms import ToTensor\n",
    "import torch.nn.functional as F\n",
    "import matplotlib.pyplot as plt\n",
    "import requests\n",
    "from PIL import Image, ImageDraw\n",
    "from io import BytesIO\n",
    "import copy\n",
    "from sklearn.metrics import confusion_matrix\n",
    "import pandas as pd\n",
    "import numpy as np\n",
    "import tkinter as tk\n",
    "from torchvision import transforms"
   ]
  },
  {
   "attachments": {},
   "cell_type": "markdown",
   "metadata": {},
   "source": [
    "## Init batch size and retrive the data from the MNIST dataset"
   ]
  },
  {
   "cell_type": "code",
   "execution_count": 2,
   "metadata": {},
   "outputs": [],
   "source": [
    "batch_size = 64\n",
    "\n",
    "T = torchvision.transforms.Compose([\n",
    "    torchvision.transforms.ToTensor()\n",
    "])\n",
    "train_data = torchvision.datasets.MNIST('mnist_data', train=True, download=True, transform=T)\n",
    "val_data = torchvision.datasets.MNIST('mnist_data', train=False, download=True, transform=T)\n",
    "\n",
    "train_dl = torch.utils.data.DataLoader(train_data, batch_size = batch_size)\n",
    "val_dl = torch.utils.data.DataLoader(val_data, batch_size = batch_size)"
   ]
  },
  {
   "cell_type": "code",
   "execution_count": 3,
   "metadata": {},
   "outputs": [],
   "source": [
    "def create_model():\n",
    "\n",
    "    \"\"\"\n",
    "    Creates a convolutional neural network (CNN) model for image classification.\n",
    "\n",
    "    Returns:\n",
    "        nn.Module: A PyTorch neural network module representing the CNN model.\n",
    "        \n",
    "    This function defines a CNN model consisting of two convolutional layers, two\n",
    "    max pooling layers, and three fully connected (linear) layers. The input to the\n",
    "    model should be a grayscale image with dimensions (1, 28, 28), and the output\n",
    "    should be a tensor of size (10,) representing the probabilities of the input image\n",
    "    belonging to each of the 10 classes in the MNIST dataset.\n",
    "    \"\"\"\n",
    "\n",
    "    conv1 = nn.Conv2d(1, 6, kernel_size=5, padding=2)\n",
    "    relu1 = nn.ReLU()\n",
    "    pool1 = nn.MaxPool2d(kernel_size=2, stride=2)\n",
    "\n",
    "    conv2 = nn.Conv2d(6, 16, kernel_size=5, padding=0)\n",
    "    relu2 = nn.ReLU()\n",
    "    pool2 = nn.MaxPool2d(kernel_size=2, stride=2)\n",
    "\n",
    "    flatten = nn.Flatten()\n",
    "    fc1 = nn.Linear(16 * 5 * 5, 120)\n",
    "    relu3 = nn.ReLU()\n",
    "    fc2 = nn.Linear(120, 84)\n",
    "    relu4 = nn.ReLU()\n",
    "    fc3 = nn.Linear(84, 10)\n",
    "\n",
    "    model = nn.Sequential(\n",
    "        conv1, relu1, pool1,\n",
    "        conv2, relu2, pool2,\n",
    "        flatten, fc1, relu3,\n",
    "        fc2, relu4, fc3\n",
    "    )\n",
    "\n",
    "    return model"
   ]
  },
  {
   "cell_type": "code",
   "execution_count": 4,
   "metadata": {},
   "outputs": [],
   "source": [
    "def validate(model, data):\n",
    "    \"\"\"Calculates the accuracy of a PyTorch neural network model on a given dataset.\n",
    "\n",
    "    Args:\n",
    "        model (nn.Module): A PyTorch neural network model.\n",
    "        data (DataLoader): A PyTorch data loader representing the dataset.\n",
    "\n",
    "    Returns:\n",
    "        float: The percentage of correctly classified samples in the dataset.\n",
    "\n",
    "    \"\"\"\n",
    "    total = 0\n",
    "    correct = 0\n",
    "\n",
    "    for i, (images, labels) in enumerate(data):\n",
    "        x = model(images)\n",
    "        value, pred = torch.max(x, 1)\n",
    "        total += x.size(0)\n",
    "        correct += torch.sum(pred == labels)\n",
    "\n",
    "    return correct*100./total"
   ]
  },
  {
   "attachments": {},
   "cell_type": "markdown",
   "metadata": {},
   "source": [
    "## Create the train loop"
   ]
  },
  {
   "cell_type": "code",
   "execution_count": 5,
   "metadata": {},
   "outputs": [],
   "source": [
    "def train(numb_epoch=3, lr=1e-3):\n",
    "    \"\"\"\n",
    "    Trains a convolutional neural network model using the Adam optimizer and\n",
    "    cross-entropy loss function.\n",
    "\n",
    "    Args:\n",
    "        numb_epoch (int, optional): The number of epochs to train the model for.\n",
    "            Defaults to 3.\n",
    "        lr (float, optional): The learning rate to use for the Adam optimizer.\n",
    "            Defaults to 1e-3.\n",
    "\n",
    "    Returns:\n",
    "        The best performing model based on validation accuracy.\n",
    "    \"\"\"\n",
    "    accuracies = []\n",
    "    cnn = create_model()\n",
    "    cec = nn.CrossEntropyLoss()\n",
    "    optimizer = optim.Adam(cnn.parameters(), lr=lr)\n",
    "    max_accuracy = 0\n",
    "\n",
    "    for epoch in range(numb_epoch):\n",
    "\n",
    "        for i, (images, labels) in enumerate(train_dl):\n",
    "\n",
    "            optimizer.zero_grad()\n",
    "\n",
    "            pred = cnn(images)\n",
    "\n",
    "            loss = cec(pred, labels)\n",
    "\n",
    "            loss.backward()\n",
    "\n",
    "            optimizer.step()\n",
    "\n",
    "        accuracy = float(validate(cnn, val_dl))\n",
    "\n",
    "        accuracies.append(accuracy)\n",
    "\n",
    "        if accuracy > max_accuracy:\n",
    "\n",
    "            best_model = copy.deepcopy(cnn)\n",
    "\n",
    "            max_accuracy = accuracy\n",
    "\n",
    "            print(\"Saving Best Model with Accuracy: \", accuracy)\n",
    "\n",
    "        print('Epoch:', epoch+1, \"Accuracy :\", accuracy, '%')\n",
    "    \n",
    "    return best_model\n"
   ]
  },
  {
   "cell_type": "code",
   "execution_count": 6,
   "metadata": {},
   "outputs": [
    {
     "name": "stdout",
     "output_type": "stream",
     "text": [
      "Saving Best Model with Accuracy:  96.58000183105469\n",
      "Epoch: 1 Accuracy : 96.58000183105469 %\n",
      "Saving Best Model with Accuracy:  97.95999908447266\n",
      "Epoch: 2 Accuracy : 97.95999908447266 %\n",
      "Saving Best Model with Accuracy:  98.33999633789062\n",
      "Epoch: 3 Accuracy : 98.33999633789062 %\n",
      "Saving Best Model with Accuracy:  98.62999725341797\n",
      "Epoch: 4 Accuracy : 98.62999725341797 %\n",
      "Saving Best Model with Accuracy:  99.0199966430664\n",
      "Epoch: 5 Accuracy : 99.0199966430664 %\n",
      "Epoch: 6 Accuracy : 98.94000244140625 %\n",
      "Epoch: 7 Accuracy : 98.91999816894531 %\n",
      "Epoch: 8 Accuracy : 98.55000305175781 %\n",
      "Epoch: 9 Accuracy : 98.76000213623047 %\n",
      "Epoch: 10 Accuracy : 98.80999755859375 %\n",
      "Epoch: 11 Accuracy : 98.77999877929688 %\n",
      "Epoch: 12 Accuracy : 98.88999938964844 %\n"
     ]
    }
   ],
   "source": [
    "model = train(12)"
   ]
  },
  {
   "cell_type": "code",
   "execution_count": 7,
   "metadata": {},
   "outputs": [],
   "source": [
    "def inference(model,img):\n",
    "    x = (255 - np.expand_dims(np.array(img), -1))/255.\n",
    "    with torch.no_grad():\n",
    "        pred = model(torch.unsqueeze(T(x), axis=0).float())\n",
    "        return F.softmax(pred, dim=-1).numpy()"
   ]
  },
  {
   "attachments": {},
   "cell_type": "markdown",
   "metadata": {},
   "source": [
    "## Using Tkinter to create the gui for the project"
   ]
  },
  {
   "cell_type": "code",
   "execution_count": 8,
   "metadata": {},
   "outputs": [],
   "source": [
    "# Create the main window\n",
    "root = tk.Tk()\n",
    "root.title(\"Draw a Digit ( 1 - 9 )\")\n",
    "\n",
    "# Create a canvas to draw on\n",
    "canvas = tk.Canvas(root, width=280, height=280, bg=\"white\")\n",
    "canvas.pack()\n",
    "\n",
    "# Create an ImageDraw object to draw on the canvas\n",
    "img = Image.new(\"L\", (280, 280), 255)\n",
    "draw = ImageDraw.Draw(img)\n",
    "\n",
    "# Define a function to handle mouse events\n",
    "def mouse_down(event):\n",
    "    global last_x, last_y\n",
    "    last_x, last_y = event.x, event.y\n",
    "\n",
    "def mouse_move(event):\n",
    "    global last_x, last_y\n",
    "    canvas.create_line((last_x, last_y, event.x, event.y), width=10, fill=\"black\")\n",
    "    draw.line((last_x, last_y, event.x, event.y), width=10, fill=0)\n",
    "    last_x, last_y = event.x, event.y\n",
    "\n",
    "# Bind mouse events to the canvas\n",
    "canvas.bind(\"<Button-1>\", mouse_down)\n",
    "canvas.bind(\"<B1-Motion>\", mouse_move)\n",
    "\n",
    "# Define a function to clear the canvas\n",
    "def clear_canvas():\n",
    "    canvas.delete(\"all\")\n",
    "    draw.rectangle((0, 0, 280, 280), fill=255)\n",
    "\n",
    "# Create a button to clear the canvas\n",
    "clear_button = tk.Button(root, text=\"Clear\", command=clear_canvas)\n",
    "clear_button.pack()\n",
    "\n",
    "def predict_digit():\n",
    "    canvas.postscript(file=\"canvas.ps\", colormode=\"color\")\n",
    "    img = Image.open(\"canvas.ps\").convert('L')\n",
    "    img = img.resize((28, 28))\n",
    "\n",
    "    # Make a prediction\n",
    "    pred = inference(model, img)\n",
    "    pred_idx = np.argmax(pred)\n",
    "\n",
    "\n",
    "    # Display the predicted digit\n",
    "    predicted_digit = tk.Label(root, text=f\"Predicted Digit: {pred_idx}, Prob: {pred[0][pred_idx]*100} %\")\n",
    "    predicted_digit.pack()\n",
    "\n",
    "predict_button = tk.Button(root, text=\"Predict\", command=predict_digit)\n",
    "predict_button.pack()\n",
    "\n",
    "# Run the main event loop\n",
    "root.mainloop()"
   ]
  },
  {
   "cell_type": "code",
   "execution_count": null,
   "metadata": {},
   "outputs": [],
   "source": []
  }
 ],
 "metadata": {
  "kernelspec": {
   "display_name": "Python 3",
   "language": "python",
   "name": "python3"
  },
  "language_info": {
   "codemirror_mode": {
    "name": "ipython",
    "version": 3
   },
   "file_extension": ".py",
   "mimetype": "text/x-python",
   "name": "python",
   "nbconvert_exporter": "python",
   "pygments_lexer": "ipython3",
   "version": "3.9.12"
  },
  "orig_nbformat": 4
 },
 "nbformat": 4,
 "nbformat_minor": 2
}
